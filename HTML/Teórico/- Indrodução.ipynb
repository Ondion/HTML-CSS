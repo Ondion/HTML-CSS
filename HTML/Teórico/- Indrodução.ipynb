{
 "cells": [
  {
   "cell_type": "markdown",
   "metadata": {},
   "source": [
    "Em 1991 Tim Berners-Lee criou essa linguagem de marcação para melhorar a comunicação entre ele e seus colegas de trabalho no CERN, desde então já surgiram 5 versões e o HTML se tornou a base da web.\n",
    "Com o HTML definimos o significado e a estrutura do conteúdo da web e, além de texto, nossas páginas precisam de imagens, vídeos e vários outros formatos e para isso temos os elementos HTML.\n",
    "Um elemento HTML é formado pela tag de abertura e seus atributos, o conteúdo e uma tag de fechamento."
   ]
  },
  {
   "cell_type": "markdown",
   "metadata": {},
   "source": [
    "**< html >**  \n",
    "  \n",
    "A tag html é a raiz do seu documento, todos os elementos HTML devem estar dentro dela. E nela nós informamos ao navegador qual é o idioma desse nosso documento, através do atributo lang, para o português brasileiro usamos pt-BR.  \n",
    "  \n",
    "**< head >**  \n",
    "  \n",
    "A tag head contém elementos que serão lidos pelo navegador, como os metadados - um exemplo é o charset, que é a codificação de caracteres e a mais comum é a UTF-8, o JavaScript com a tag script, o CSS através das tags style e link - veremos a diferença quando falarmos sobre CSS - e o título da página com a tag title.  \n",
    "  \n",
    "**< body >**  \n",
    "  \n",
    "E dentro da tag body colocamos todo o conteúdo visível ao usuário: textos, imagens, vídeos.  "
   ]
  },
  {
   "cell_type": "markdown",
   "metadata": {},
   "source": [
    "## Semântica  \n",
    "  \n",
    "Durante muitos anos o elemento padrão no HTML era a div, construíamos nosso conteúdo todo baseado nela, e assim nascia a sopa de divs.\n",
    "Mas em 2014 saiu a quinta versão do HTML, e com ela vieram vários mudanças importantes, como performance e acessibilidade, mas nesse curso introdutório vamos focar na semântica.\n",
    "A semântica nos permite descrever mais precisamente o nosso conteúdo, agora um bloco de texto não é apenas uma div, agora é um article e tem mais significado assim. E temos vários elementos para ressignificar as divs:  \n",
    "  \n",
    "**< section >**  \n",
    "Representa uma seção genérica de conteúdo quando não houver um elemento mais específico para isso.  \n",
    "  \n",
    "**< header >**  \n",
    "É o cabeçalho da página ou de uma seção da página e normalmente contém logotipos, menus, campos de busca.  \n",
    "  \n",
    "**< article >**  \n",
    "Representa um conteúdo independente e de maior relevância dentro de uma página, como um post de blog, uma notícia em uma barra lateral ou um bloco de comentários. Um article pode conter outros elementos, como header, cabeçalhos, parágrafos e imagens.  \n",
    "  \n",
    "**< aside >**    \n",
    "É uma seção que engloba conteúdos relacionados ao conteúdo principal, como artigos relacionados, biografia do autor e publicidade. Normalmente são representadas como barras laterais.  \n",
    "  \n",
    "**< footer >**  \n",
    "Esse elemento representa o rodapé do conteúdo ou de parte dele, pois ele é aceito dentro de vários elementos, como article e section e até do body. Exemplos de conteúdo de um **< footer >** são informações de autor e links relacionados.  \n",
    "\n",
    "**< h1 > - < h6 >**  \n",
    "Eles não foram criados na versão 5 do HTML e nem são específicos para semântica, mas servem para esse propósito. São utilizados para marcar a importância dos títulos, sendo **< h1 >** o mais importante e **< h6 >** o menos. Uma dica: use apenas um **< h1 >** por página, pois ele representa o objetivo da sua página.  "
   ]
  },
  {
   "cell_type": "markdown",
   "metadata": {},
   "source": [
    "## Textos e links  \n",
    "A criação do HTML foi motivada pela necessidade de compartilhar textos e documentos, e mesmo depois de quase 30 anos, com toda a evolução da web, isso ainda representa uma boa parte do conteúdo da web.  \n",
    "Já falamos anteriormente sobre os elementos h1-h6 e, eles são essenciais para nos indicar visualmente a importância e localização de seções de texto na página, mas para textos maiores e mais densos usamos o elemento p.  \n",
    "O **< p >** representa um parágrafo, mas ele não suporta apenas texto, podemos adicionar imagens, código, vídeos e vários outros tipos de conteúdo dentro dele.  \n",
    "Um outro elemento interessante e extremamente necessário na web é o **< a >** - que significa anchor/âncora, ele representa um hyperlink, é ele que interliga vários conteúdos e páginas na web.  \n",
    "  \n",
    "O elemento a tem vários atributos, mas vamos focar em dois, o href e o target.  \n",
    "O href representa o hyperlink para onde sua âncora aponta, pode ser uma página do seu ou de outro site, um e-mail e até mesmo um telefone, os dois últimos precisam dos prefixos mailto: e tel:, respectivamente.  \n",
    "O target neste momento vai servir para nos ajudar a abrir nossos links em outra aba do navegador usando o valor _blank.  "
   ]
  },
  {
   "cell_type": "markdown",
   "metadata": {},
   "source": [
    "## Imagens  \n",
    "A web também é feita de imagens e para representá-las temos o elemento **< img >**, ele é um daqueles elementos sem tag de fechamento.  \n",
    "O elemento img é bem simples, contendo apenas 2 atributos próprios, o src e o alt.  \n",
    "O src é obrigatório e guarda o caminho para a imagem que você quer mostrar na página.  \n",
    "O alt não é obrigatório mas é altamente recomendado por melhorar a acessibilidade, ele mostra a descrição da imagem caso ela não carregue e leitores de tela usam esse atributo para descrever a imagem para o usuário saber o que ela significa.  "
   ]
  },
  {
   "cell_type": "markdown",
   "metadata": {},
   "source": [
    "## Listas  \n",
    "Os últimos elementos que veremos neste módulo são os relacionados a listas: **< ul >**, **< ol >** e **< li >**.  \n",
    "Listas servem para agrupar uma coleção de itens, como uma lista de ingredientes ou, como será no nosso caso, uma lista com contatos.  \n",
    "O elemento ul cria uma lista não ordenada, onde a ordem dos elementos não é importante, e é representada com pontos, círculos ou quadrados.  \n",
    "O **< ol >** serve para criar lista ordenadas, nessas a ordem importa, portanto elas são representadas com números, algarismos romanos ou letras.  \n",
    "E o elemento li é um item dentro de uma dessas listas. Um **< li >** pode conter vários tipos de conteúdos, como parágrafos, imagens e até outras listas.  "
   ]
  },
  {
   "cell_type": "markdown",
   "metadata": {},
   "source": []
  },
  {
   "cell_type": "markdown",
   "metadata": {},
   "source": [
    "< h1 class=\"classe\">Conteúdo</ > "
   ]
  },
  {
   "cell_type": "markdown",
   "metadata": {},
   "source": []
  }
 ],
 "metadata": {
  "kernelspec": {
   "display_name": "Python 3.8.10 64-bit",
   "language": "python",
   "name": "python3"
  },
  "language_info": {
   "name": "python",
   "version": "3.8.10"
  },
  "orig_nbformat": 4,
  "vscode": {
   "interpreter": {
    "hash": "916dbcbb3f70747c44a77c7bcd40155683ae19c65e1c03b4aa3499c5328201f1"
   }
  }
 },
 "nbformat": 4,
 "nbformat_minor": 2
}
