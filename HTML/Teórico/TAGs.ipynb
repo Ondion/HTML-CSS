{
 "cells": [
  {
   "cell_type": "markdown",
   "metadata": {},
   "source": [
    "<h1>h1<h1> - < h1 >h1< h1 > - Geralmente para título da página.  <hr>\n",
    "<h2>h2<h2> - < h2 >h1< h2 > - Geralmente para título da seção.  <hr>\n",
    "<h3>h3<h3> - < h3 >h1< h3 > - Geralmente para título da artigo.  <hr>\n",
    "<h4>h4<h4> - < h4 >h1< h4 > -   <hr>\n",
    "<h5>h5<h5> - < h5 >h1< h5 > -   <hr>\n",
    "<h6>h6<h6> - < h6 >h1< h6 > -   <hr>"
   ]
  },
  {
   "cell_type": "markdown",
   "metadata": {},
   "source": [
    "<p>Paragrafo</p> - < p > < /p > Usado para conteúdo do artigo.  <hr>"
   ]
  },
  {
   "cell_type": "markdown",
   "metadata": {},
   "source": [
    "<a>Link</a> - < a > Link < /a >  <hr>  \n",
    "  \n",
    "<a href=\"http://www.google.com.br\" target=\"_blank\"> teste </a> Link com nova aba  \n",
    "<a href=\"malito:teste@teste.com\"> teste </a> Link para email  <hr>"
   ]
  },
  {
   "cell_type": "markdown",
   "metadata": {},
   "source": [
    "< img > - TAG para imagens  \n",
    "< img src=\"local da imagem\" alt=\"descrição da imagem\" >  <hr>"
   ]
  },
  {
   "cell_type": "markdown",
   "metadata": {},
   "source": [
    "<ul>\n",
    "  <l1><p>Exemplo de lista < ul > Não ordenada</p></li>\n",
    "  <l1><p>Exemplo de lista < ul > Não ordenada</p></li>\n",
    "  <l1><p>Exemplo de lista < ul > Não ordenada</p></li>\n",
    "</ul>  \n",
    "\n",
    "<ol>\n",
    "  <l1><p>Exemplo de lista < ol > ordenada</p></li>\n",
    "  <l1><p>Exemplo de lista < ol > ordenada</p></li>\n",
    "  <l1><p>Exemplo de lista < ol > ordenada</p></li>\n",
    "</ol>"
   ]
  },
  {
   "cell_type": "markdown",
   "metadata": {},
   "source": []
  }
 ],
 "metadata": {
  "kernelspec": {
   "display_name": "Python 3.8.10 64-bit",
   "language": "python",
   "name": "python3"
  },
  "language_info": {
   "name": "python",
   "version": "3.8.10"
  },
  "orig_nbformat": 4,
  "vscode": {
   "interpreter": {
    "hash": "916dbcbb3f70747c44a77c7bcd40155683ae19c65e1c03b4aa3499c5328201f1"
   }
  }
 },
 "nbformat": 4,
 "nbformat_minor": 2
}
